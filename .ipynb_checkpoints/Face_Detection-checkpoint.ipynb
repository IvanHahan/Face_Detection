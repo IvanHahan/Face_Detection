{
 "cells": [
  {
   "cell_type": "code",
   "execution_count": 3,
   "metadata": {
    "collapsed": false
   },
   "outputs": [
    {
     "name": "stderr",
     "output_type": "stream",
     "text": [
      "/Library/Frameworks/Python.framework/Versions/3.6/lib/python3.6/site-packages/h5py/__init__.py:36: FutureWarning: Conversion of the second argument of issubdtype from `float` to `np.floating` is deprecated. In future, it will be treated as `np.float64 == np.dtype(float).type`.\n",
      "  from ._conv import register_converters as _register_converters\n",
      "Using TensorFlow backend.\n"
     ]
    }
   ],
   "source": [
    "import numpy as np\n",
    "import matplotlib.pyplot as plt\n",
    "import urllib\n",
    "from matplotlib import image\n",
    "\n",
    "from keras.models import Sequential, Model\n",
    "from keras.layers import Reshape, Activation, Conv2D, Input, MaxPooling2D, BatchNormalization, Flatten, Dense, Lambda\n",
    "from keras.layers.advanced_activations import LeakyReLU\n",
    "from keras.callbacks import EarlyStopping, ModelCheckpoint, TensorBoard\n",
    "from keras.optimizers import SGD, Adam, RMSprop\n",
    "from keras.layers.merge import concatenate\n",
    "import matplotlib.pyplot as plt\n",
    "import keras.backend as K\n",
    "import tensorflow as tf\n",
    "import h5py as h5py\n",
    "import pickle\n",
    "import os, cv2\n",
    "from PIL import Image\n",
    "\n",
    "\n",
    "\n",
    "%matplotlib inline"
   ]
  },
  {
   "cell_type": "markdown",
   "metadata": {},
   "source": [
    "# Load Data"
   ]
  },
  {
   "cell_type": "code",
   "execution_count": 4,
   "metadata": {
    "collapsed": false
   },
   "outputs": [
    {
     "ename": "OSError",
     "evalue": "faces.csv not found.",
     "output_type": "error",
     "traceback": [
      "\u001b[0;31m---------------------------------------------------------------------------\u001b[0m",
      "\u001b[0;31mOSError\u001b[0m                                   Traceback (most recent call last)",
      "\u001b[0;32m<ipython-input-4-da62a2a2630c>\u001b[0m in \u001b[0;36m<module>\u001b[0;34m()\u001b[0m\n\u001b[0;32m----> 1\u001b[0;31m \u001b[0mimg_urls\u001b[0m \u001b[0;34m=\u001b[0m \u001b[0mnp\u001b[0m\u001b[0;34m.\u001b[0m\u001b[0mloadtxt\u001b[0m\u001b[0;34m(\u001b[0m\u001b[0;34m'faces.csv'\u001b[0m\u001b[0;34m,\u001b[0m \u001b[0mdtype\u001b[0m\u001b[0;34m=\u001b[0m\u001b[0mnp\u001b[0m\u001b[0;34m.\u001b[0m\u001b[0mstr\u001b[0m\u001b[0;34m)\u001b[0m\u001b[0;34m\u001b[0m\u001b[0m\n\u001b[0m",
      "\u001b[0;32m/Library/Frameworks/Python.framework/Versions/3.6/lib/python3.6/site-packages/numpy/lib/npyio.py\u001b[0m in \u001b[0;36mloadtxt\u001b[0;34m(fname, dtype, comments, delimiter, converters, skiprows, usecols, unpack, ndmin, encoding)\u001b[0m\n\u001b[1;32m    915\u001b[0m             \u001b[0mfname\u001b[0m \u001b[0;34m=\u001b[0m \u001b[0mstr\u001b[0m\u001b[0;34m(\u001b[0m\u001b[0mfname\u001b[0m\u001b[0;34m)\u001b[0m\u001b[0;34m\u001b[0m\u001b[0m\n\u001b[1;32m    916\u001b[0m         \u001b[0;32mif\u001b[0m \u001b[0m_is_string_like\u001b[0m\u001b[0;34m(\u001b[0m\u001b[0mfname\u001b[0m\u001b[0;34m)\u001b[0m\u001b[0;34m:\u001b[0m\u001b[0;34m\u001b[0m\u001b[0m\n\u001b[0;32m--> 917\u001b[0;31m             \u001b[0mfh\u001b[0m \u001b[0;34m=\u001b[0m \u001b[0mnp\u001b[0m\u001b[0;34m.\u001b[0m\u001b[0mlib\u001b[0m\u001b[0;34m.\u001b[0m\u001b[0m_datasource\u001b[0m\u001b[0;34m.\u001b[0m\u001b[0mopen\u001b[0m\u001b[0;34m(\u001b[0m\u001b[0mfname\u001b[0m\u001b[0;34m,\u001b[0m \u001b[0;34m'rt'\u001b[0m\u001b[0;34m,\u001b[0m \u001b[0mencoding\u001b[0m\u001b[0;34m=\u001b[0m\u001b[0mencoding\u001b[0m\u001b[0;34m)\u001b[0m\u001b[0;34m\u001b[0m\u001b[0m\n\u001b[0m\u001b[1;32m    918\u001b[0m             \u001b[0mfencoding\u001b[0m \u001b[0;34m=\u001b[0m \u001b[0mgetattr\u001b[0m\u001b[0;34m(\u001b[0m\u001b[0mfh\u001b[0m\u001b[0;34m,\u001b[0m \u001b[0;34m'encoding'\u001b[0m\u001b[0;34m,\u001b[0m \u001b[0;34m'latin1'\u001b[0m\u001b[0;34m)\u001b[0m\u001b[0;34m\u001b[0m\u001b[0m\n\u001b[1;32m    919\u001b[0m             \u001b[0mfh\u001b[0m \u001b[0;34m=\u001b[0m \u001b[0miter\u001b[0m\u001b[0;34m(\u001b[0m\u001b[0mfh\u001b[0m\u001b[0;34m)\u001b[0m\u001b[0;34m\u001b[0m\u001b[0m\n",
      "\u001b[0;32m/Library/Frameworks/Python.framework/Versions/3.6/lib/python3.6/site-packages/numpy/lib/_datasource.py\u001b[0m in \u001b[0;36mopen\u001b[0;34m(path, mode, destpath, encoding, newline)\u001b[0m\n\u001b[1;32m    258\u001b[0m \u001b[0;34m\u001b[0m\u001b[0m\n\u001b[1;32m    259\u001b[0m     \u001b[0mds\u001b[0m \u001b[0;34m=\u001b[0m \u001b[0mDataSource\u001b[0m\u001b[0;34m(\u001b[0m\u001b[0mdestpath\u001b[0m\u001b[0;34m)\u001b[0m\u001b[0;34m\u001b[0m\u001b[0m\n\u001b[0;32m--> 260\u001b[0;31m     \u001b[0;32mreturn\u001b[0m \u001b[0mds\u001b[0m\u001b[0;34m.\u001b[0m\u001b[0mopen\u001b[0m\u001b[0;34m(\u001b[0m\u001b[0mpath\u001b[0m\u001b[0;34m,\u001b[0m \u001b[0mmode\u001b[0m\u001b[0;34m,\u001b[0m \u001b[0mencoding\u001b[0m\u001b[0;34m=\u001b[0m\u001b[0mencoding\u001b[0m\u001b[0;34m,\u001b[0m \u001b[0mnewline\u001b[0m\u001b[0;34m=\u001b[0m\u001b[0mnewline\u001b[0m\u001b[0;34m)\u001b[0m\u001b[0;34m\u001b[0m\u001b[0m\n\u001b[0m\u001b[1;32m    261\u001b[0m \u001b[0;34m\u001b[0m\u001b[0m\n\u001b[1;32m    262\u001b[0m \u001b[0;34m\u001b[0m\u001b[0m\n",
      "\u001b[0;32m/Library/Frameworks/Python.framework/Versions/3.6/lib/python3.6/site-packages/numpy/lib/_datasource.py\u001b[0m in \u001b[0;36mopen\u001b[0;34m(self, path, mode, encoding, newline)\u001b[0m\n\u001b[1;32m    614\u001b[0m                                       encoding=encoding, newline=newline)\n\u001b[1;32m    615\u001b[0m         \u001b[0;32melse\u001b[0m\u001b[0;34m:\u001b[0m\u001b[0;34m\u001b[0m\u001b[0m\n\u001b[0;32m--> 616\u001b[0;31m             \u001b[0;32mraise\u001b[0m \u001b[0mIOError\u001b[0m\u001b[0;34m(\u001b[0m\u001b[0;34m\"%s not found.\"\u001b[0m \u001b[0;34m%\u001b[0m \u001b[0mpath\u001b[0m\u001b[0;34m)\u001b[0m\u001b[0;34m\u001b[0m\u001b[0m\n\u001b[0m\u001b[1;32m    617\u001b[0m \u001b[0;34m\u001b[0m\u001b[0m\n\u001b[1;32m    618\u001b[0m \u001b[0;34m\u001b[0m\u001b[0m\n",
      "\u001b[0;31mOSError\u001b[0m: faces.csv not found."
     ]
    }
   ],
   "source": [
    "img_urls = np.loadtxt('faces.csv', dtype=np.str)"
   ]
  },
  {
   "cell_type": "code",
   "execution_count": null,
   "metadata": {
    "collapsed": true
   },
   "outputs": [],
   "source": [
    "def load_images_from_urls(urls):\n",
    "    for i in range(len(urls)):\n",
    "        try:\n",
    "            urllib.request.urlretrieve(urls[i], 'images/img' + str(i) +'.png' )\n",
    "        except:\n",
    "            continue"
   ]
  },
  {
   "cell_type": "markdown",
   "metadata": {},
   "source": [
    "# Try Basic-Yolo-Keras implementation"
   ]
  },
  {
   "cell_type": "code",
   "execution_count": 34,
   "metadata": {
    "collapsed": false
   },
   "outputs": [],
   "source": [
    "anchors = np.fromfile('tiny-yolov2-keras/tiny-yolo_anchors.txt', sep=', ')\n",
    "IMAGE_W = 416\n",
    "CHANNELS = 3\n",
    "LABELS = 80\n",
    "GRID = 13\n",
    "BOX = LABELS+5\n",
    "ANCHORS = int(len(anchors) / 2)"
   ]
  },
  {
   "cell_type": "code",
   "execution_count": 24,
   "metadata": {
    "collapsed": false
   },
   "outputs": [],
   "source": [
    "x_input = Input((IMAGE_W, IMAGE_W, CHANNELS))\n",
    "\n",
    "#1\n",
    "x = Conv2D(kernel_size=(3,3), filters=16, strides=(1,1), padding='SAME', name='conv2d_1', use_bias=False)(x_input)\n",
    "x = BatchNormalization(name='batch_normalization_1f')(x)\n",
    "x = LeakyReLU()(x)\n",
    "x = MaxPooling2D((2,2))(x)\n",
    "\n",
    "#2\n",
    "x = Conv2D(kernel_size=(3,3), filters=32, strides=(1,1), padding='SAME', name='conv2d_2', use_bias=False)(x)\n",
    "x = BatchNormalization(name='batch_normalization_2f')(x)\n",
    "x = LeakyReLU()(x)\n",
    "x = MaxPooling2D((2,2))(x)\n",
    "\n",
    "#3\n",
    "x = Conv2D(kernel_size=(3,3), filters=64, strides=(1,1), padding='SAME', name='conv2d_3', use_bias=False)(x)\n",
    "x = BatchNormalization(name='batch_normalization_3f')(x)\n",
    "x = LeakyReLU()(x)\n",
    "x = MaxPooling2D((2,2))(x)\n",
    "\n",
    "#4\n",
    "x = Conv2D(kernel_size=(3,3), filters=128, strides=(1,1), padding='SAME', name='conv2d_4', use_bias=False)(x)\n",
    "x = BatchNormalization(name='batch_normalization_4f')(x)\n",
    "x = LeakyReLU()(x)\n",
    "x = MaxPooling2D((2,2))(x)\n",
    "\n",
    "#5\n",
    "x = Conv2D(kernel_size=(3,3), filters=256, strides=(1,1), padding='SAME', name='conv2d_5', use_bias=False)(x)\n",
    "x = BatchNormalization(name='batch_normalization_5f')(x)\n",
    "x = LeakyReLU()(x)\n",
    "x = MaxPooling2D((2,2))(x)\n",
    "\n",
    "#6\n",
    "x = Conv2D(kernel_size=(3,3), filters=512, strides=(1,1), padding='SAME', name='conv2d_6', use_bias=False)(x)\n",
    "x = BatchNormalization(name='batch_normalization_6f')(x)\n",
    "x = LeakyReLU()(x)\n",
    "x = MaxPooling2D((2,2), strides=(1,1), padding='SAME')(x)\n",
    "\n",
    "#7\n",
    "x = Conv2D(kernel_size=(3,3), filters=1024, strides=(1,1), padding='SAME', name='conv2d_7', use_bias=False)(x)\n",
    "x = BatchNormalization(name='batch_normalization_7f')(x)\n",
    "x = LeakyReLU()(x)\n",
    "\n",
    "#######\n",
    "\n",
    "x = Conv2D(kernel_size=(3,3), filters=512, strides=(1,1), padding='SAME', name='conv2d_8', use_bias=False)(x)\n",
    "x = BatchNormalization(name='batch_normalization_8f')(x)\n",
    "x = LeakyReLU()(x)\n",
    "\n",
    "x = Conv2D(kernel_size=(1,1), filters=425, strides=(1,1), padding='SAME', name='conv2d_9')(x)\n",
    "\n",
    "model = Model(inputs=x_input, outputs=x)"
   ]
  },
  {
   "cell_type": "code",
   "execution_count": 25,
   "metadata": {
    "collapsed": false
   },
   "outputs": [],
   "source": [
    "model.load_weights('tiny-yolov2-keras/tiny-yolo.h5', by_name=True)"
   ]
  },
  {
   "cell_type": "code",
   "execution_count": 26,
   "metadata": {
    "collapsed": false
   },
   "outputs": [
    {
     "data": {
      "text/plain": [
       "array([[[[-1.39253198e+03, -5.88799268e+03, -9.48033875e+02, ...,\n",
       "          -1.84498242e+03, -4.28775684e+03, -1.75372986e+03],\n",
       "         [-4.61543945e+03, -4.45098877e+03, -7.06595398e+02, ...,\n",
       "          -5.65615869e+03, -5.36683105e+03, -1.63418323e+03],\n",
       "         [-3.16863989e+03, -3.39901709e+03, -4.49839172e+02, ...,\n",
       "          -5.47959180e+03, -4.86273096e+03, -4.09657178e+03],\n",
       "         ...,\n",
       "         [-8.04617859e+02, -6.67941284e+02,  1.19079697e+02, ...,\n",
       "          -8.27884155e+02, -1.28341626e+03, -1.13933752e+03],\n",
       "         [ 4.83175537e+02, -1.11590942e+03,  6.75863953e+02, ...,\n",
       "          -2.32001587e+02, -9.79992249e+02, -4.23326965e+02],\n",
       "         [-1.37874771e+02, -2.41414398e+02,  7.62089417e+02, ...,\n",
       "          -1.71229736e+03, -2.61771484e+02, -6.29141113e+02]],\n",
       "\n",
       "        [[-2.89887939e+03, -4.18482910e+03, -1.14612756e+03, ...,\n",
       "          -7.15576465e+03, -6.52551123e+03, -1.63187659e+03],\n",
       "         [-7.83566504e+03, -6.58702881e+03, -2.53436670e+03, ...,\n",
       "          -9.20629883e+03, -1.26054795e+04, -3.00540283e+03],\n",
       "         [-1.17510850e+04, -1.10307324e+04, -2.49819434e+03, ...,\n",
       "          -8.26887109e+03, -1.28454648e+04, -4.93782861e+03],\n",
       "         ...,\n",
       "         [-1.27945996e+03, -2.33351761e+02,  9.89598236e+01, ...,\n",
       "          -4.26665039e+03, -1.66344067e+03, -1.48750769e+03],\n",
       "         [-4.66126862e+02, -2.23444629e+03,  5.45835815e+02, ...,\n",
       "          -8.71189636e+02, -1.31817578e+03, -1.75590317e+02],\n",
       "         [ 7.74516106e+00, -8.07944519e+02,  1.07141980e+03, ...,\n",
       "          -1.80916113e+03, -1.15126709e+03, -4.96102234e+02]],\n",
       "\n",
       "        [[-8.85783496e+03, -6.70250049e+03, -3.72572412e+03, ...,\n",
       "          -1.74901406e+04, -1.00136201e+04, -6.32630518e+03],\n",
       "         [-8.59012695e+03, -1.33110615e+04, -4.10595215e+03, ...,\n",
       "          -8.61639551e+03, -1.85865996e+04, -5.43644580e+03],\n",
       "         [-8.35714766e+04, -2.63571699e+04, -2.92620352e+04, ...,\n",
       "          -3.60878164e+04, -1.37933799e+04, -1.85721680e+04],\n",
       "         ...,\n",
       "         [-1.85320020e+04, -4.28670996e+03, -7.52694971e+03, ...,\n",
       "          -1.37722451e+04, -1.46385889e+03, -6.66998584e+03],\n",
       "         [-7.41647900e+03, -5.08478711e+03, -2.49342114e+03, ...,\n",
       "          -4.74317041e+03, -2.33856543e+03, -1.92176343e+03],\n",
       "         [ 8.82918762e+02, -8.64233582e+02,  1.32372766e+03, ...,\n",
       "          -2.72560010e+03, -2.13073218e+03, -7.94760498e+02]],\n",
       "\n",
       "        ...,\n",
       "\n",
       "        [[-2.79434883e+04,  1.45350693e+04,  2.10655879e+04, ...,\n",
       "          -6.67101328e+04, -4.27394824e+03, -6.65341357e+03],\n",
       "         [-4.09695781e+04,  1.09196699e+04,  1.33722197e+04, ...,\n",
       "          -5.79123867e+04, -5.86931091e+02, -9.79187402e+03],\n",
       "         [-6.54441125e+05, -3.77174297e+04, -2.13489375e+05, ...,\n",
       "          -4.36307031e+05,  5.05917266e+04, -1.69917797e+05],\n",
       "         ...,\n",
       "         [-5.23169500e+05, -2.45497363e+04, -1.78046016e+05, ...,\n",
       "          -3.38802281e+05,  2.97311582e+04, -1.41532828e+05],\n",
       "         [-5.22463188e+05, -2.29065273e+04, -1.85946906e+05, ...,\n",
       "          -3.33057688e+05,  3.36206445e+04, -1.40101609e+05],\n",
       "         [-3.82329188e+05, -1.94447715e+04, -1.37141688e+05, ...,\n",
       "          -2.40751266e+05,  2.71405684e+04, -1.01089297e+05]],\n",
       "\n",
       "        [[-3.75474609e+04,  7.88311670e+03,  1.79208848e+04, ...,\n",
       "          -4.94161250e+04, -4.16896436e+03, -3.06456592e+03],\n",
       "         [-3.96318438e+04,  4.87114502e+03,  9.63086719e+03, ...,\n",
       "          -4.16190039e+04, -2.41312427e+03, -1.11978076e+04],\n",
       "         [-8.07837250e+05, -4.55815547e+04, -2.74936719e+05, ...,\n",
       "          -5.13037188e+05,  5.62723164e+04, -2.12112609e+05],\n",
       "         ...,\n",
       "         [-4.37055531e+05, -2.57495430e+04, -1.46876609e+05, ...,\n",
       "          -2.75794406e+05,  2.49314004e+04, -1.15080578e+05],\n",
       "         [-3.83638781e+05, -1.84078496e+04, -1.29749719e+05, ...,\n",
       "          -2.42899047e+05,  2.48394648e+04, -1.03603336e+05],\n",
       "         [-2.29317391e+05, -1.15567070e+04, -7.97778750e+04, ...,\n",
       "          -1.51573312e+05,  1.69344414e+04, -6.15139766e+04]],\n",
       "\n",
       "        [[-3.50992891e+04,  7.82365918e+03,  1.10209873e+04, ...,\n",
       "          -2.95357891e+04, -6.24974463e+03, -8.54039062e+03],\n",
       "         [-2.75386699e+04,  3.26416846e+03,  3.59758667e+03, ...,\n",
       "          -1.56247168e+04, -8.00130566e+03, -1.49977744e+04],\n",
       "         [-8.12259000e+05, -4.83586367e+04, -2.82237406e+05, ...,\n",
       "          -4.95631750e+05,  5.12576719e+04, -2.19737344e+05],\n",
       "         ...,\n",
       "         [-3.74132219e+05, -2.24318965e+04, -1.28978102e+05, ...,\n",
       "          -2.25787172e+05,  1.93131328e+04, -9.75428125e+04],\n",
       "         [-3.95994156e+05, -2.15246953e+04, -1.39632531e+05, ...,\n",
       "          -2.45321234e+05,  2.24389062e+04, -1.04612422e+05],\n",
       "         [-4.03689031e+05, -2.61667852e+04, -1.46380984e+05, ...,\n",
       "          -2.51963922e+05,  2.60459062e+04, -1.04713070e+05]]]],\n",
       "      dtype=float32)"
      ]
     },
     "execution_count": 26,
     "metadata": {},
     "output_type": "execute_result"
    }
   ],
   "source": [
    "image = plt.imread('street.jpg')\n",
    "resized = cv2.resize(image, (IMAGE_W, IMAGE_W))\n",
    "image_data = np.expand_dims(resized, axis=0)\n",
    "image_data = image_data\n",
    "model.predict(image_data)"
   ]
  },
  {
   "cell_type": "code",
   "execution_count": 50,
   "metadata": {
    "collapsed": false
   },
   "outputs": [],
   "source": [
    "class Box:\n",
    "    def __init__(self):\n",
    "        c,x,y,w,h = [float() for i in range(5)]"
   ]
  },
  {
   "cell_type": "code",
   "execution_count": 48,
   "metadata": {
    "collapsed": true
   },
   "outputs": [],
   "source": [
    "def box_intersection(a, b):\n",
    "    w = overlap(a.x, a.w, b.x, b.w);\n",
    "    h = overlap(a.y, a.h, b.y, b.h);\n",
    "    if w < 0 or h < 0: return 0;\n",
    "    area = w * h;\n",
    "    return area;\n",
    "\n",
    "def box_union(a, b):\n",
    "    i = box_intersection(a, b);\n",
    "    u = a.w * a.h + b.w * b.h - i;\n",
    "    return u;\n",
    "\n",
    "def box_iou(a, b):\n",
    "    return box_intersection(a, b) / box_union(a, b);"
   ]
  },
  {
   "cell_type": "code",
   "execution_count": 44,
   "metadata": {
    "collapsed": false
   },
   "outputs": [],
   "source": [
    "def parse_netout(netout, anchors):\n",
    "    boxes_confidences = np.array([netout[:,:,i*BOX] for i in range(ANCHORS)])\n",
    "    boxes_xy = np.array([netout[:,:,(i*BOX + 1) : (i*BOX + 3)] for i in range(ANCHORS)])\n",
    "    boxes_wh = np.array([netout[:,:,(i*BOX + 3) : (i*BOX + 5)] for i in range(ANCHORS)])\n",
    "    boxes_class_probs = np.array([netout[:,:,(i*BOX + 5) : (i*BOX + BOX)] for i in range(ANCHORS)])\n",
    "    return boxes_confidences, boxes_xy, boxes_wh, boxes_class_probs"
   ]
  },
  {
   "cell_type": "code",
   "execution_count": 45,
   "metadata": {
    "collapsed": false
   },
   "outputs": [
    {
     "name": "stdout",
     "output_type": "stream",
     "text": [
      "boxes_confidences:  (5, 13, 13)\n",
      "boxes_xy:  (5, 13, 13, 2)\n",
      "boxes_wh:  (5, 13, 13, 2)\n",
      "boxes_class_probs:  (5, 13, 13, 80)\n"
     ]
    }
   ],
   "source": [
    "test_netout = np.random.rand(13,13,425)\n",
    "boxes_confidences, boxes_xy, boxes_wh, boxes_class_probs = parse_netout(test_netout, anchors)\n",
    "print(\"boxes_confidences: \", boxes_confidences.shape)\n",
    "print(\"boxes_xy: \", boxes_xy.shape)\n",
    "print(\"boxes_wh: \", boxes_wh.shape)\n",
    "print(\"boxes_class_probs: \", boxes_class_probs.shape)"
   ]
  },
  {
   "cell_type": "code",
   "execution_count": null,
   "metadata": {
    "collapsed": true
   },
   "outputs": [],
   "source": []
  },
  {
   "cell_type": "code",
   "execution_count": 1,
   "metadata": {
    "collapsed": true
   },
   "outputs": [],
   "source": [
    "def frame_func(image):\n",
    "    crop = image[300:650,500:,:]\n",
    "    resized = cv2.resize(crop,(448,448))\n",
    "    batch = np.array([resized[:,:,0],resized[:,:,1],resized[:,:,2]])\n",
    "    batch = 2*(batch/255.) - 1\n",
    "    batch = np.expand_dims(batch, axis=0)\n",
    "    out = model.predict(batch)\n",
    "    boxes = yolo_net_out_to_car_boxes(out[0], threshold = 0.17)\n",
    "    return draw_box(boxes,image,[[500,1280],[300,650]])"
   ]
  },
  {
   "cell_type": "code",
   "execution_count": 2,
   "metadata": {
    "collapsed": true
   },
   "outputs": [],
   "source": [
    "def draw_box(boxes,im,crop_dim):\n",
    "    imgcv = im\n",
    "    [xmin,xmax] = crop_dim[0]\n",
    "    [ymin,ymax] = crop_dim[1]\n",
    "    for b in boxes:\n",
    "        h, w, _ = imgcv.shape\n",
    "        left  = int ((b.x - b.w/2.) * w)\n",
    "        right = int ((b.x + b.w/2.) * w)\n",
    "        top   = int ((b.y - b.h/2.) * h)\n",
    "        bot   = int ((b.y + b.h/2.) * h)\n",
    "        left = int(left*(xmax-xmin)/w + xmin)\n",
    "        right = int(right*(xmax-xmin)/w + xmin)\n",
    "        top = int(top*(ymax-ymin)/h + ymin)\n",
    "        bot = int(bot*(ymax-ymin)/h + ymin)\n",
    "\n",
    "        if left  < 0    :  left = 0\n",
    "        if right > w - 1: right = w - 1\n",
    "        if top   < 0    :   top = 0\n",
    "        if bot   > h - 1:   bot = h - 1\n",
    "        thick = int((h + w) // 150)\n",
    "        cv2.rectangle(imgcv, (left, top), (right, bot), (255,0,0), thick)\n",
    "\n",
    "    return imgcv"
   ]
  },
  {
   "cell_type": "code",
   "execution_count": null,
   "metadata": {
    "collapsed": true
   },
   "outputs": [],
   "source": []
  }
 ],
 "metadata": {
  "kernelspec": {
   "display_name": "Python 3",
   "language": "python",
   "name": "python3"
  },
  "language_info": {
   "codemirror_mode": {
    "name": "ipython",
    "version": 3
   },
   "file_extension": ".py",
   "mimetype": "text/x-python",
   "name": "python",
   "nbconvert_exporter": "python",
   "pygments_lexer": "ipython3",
   "version": "3.6.1"
  }
 },
 "nbformat": 4,
 "nbformat_minor": 2
}
