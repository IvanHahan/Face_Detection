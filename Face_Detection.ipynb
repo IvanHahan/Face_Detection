{
 "cells": [
  {
   "cell_type": "code",
   "execution_count": 1,
   "metadata": {
    "collapsed": false
   },
   "outputs": [
    {
     "name": "stderr",
     "output_type": "stream",
     "text": [
      "/Library/Frameworks/Python.framework/Versions/3.6/lib/python3.6/site-packages/h5py/__init__.py:36: FutureWarning: Conversion of the second argument of issubdtype from `float` to `np.floating` is deprecated. In future, it will be treated as `np.float64 == np.dtype(float).type`.\n",
      "  from ._conv import register_converters as _register_converters\n",
      "Using TensorFlow backend.\n"
     ]
    }
   ],
   "source": [
    "import numpy as np\n",
    "import matplotlib.pyplot as plt\n",
    "import urllib\n",
    "from matplotlib import image\n",
    "\n",
    "from keras.models import Sequential, Model\n",
    "from keras.layers import Reshape, Activation, Conv2D, Input, MaxPooling2D, BatchNormalization, Flatten, Dense, Lambda\n",
    "from keras.layers.advanced_activations import LeakyReLU\n",
    "from keras.callbacks import EarlyStopping, ModelCheckpoint, TensorBoard\n",
    "from keras.optimizers import SGD, Adam, RMSprop\n",
    "from keras.layers.merge import concatenate\n",
    "import matplotlib.pyplot as plt\n",
    "import keras.backend as K\n",
    "import tensorflow as tf\n",
    "import h5py as h5py\n",
    "import pickle\n",
    "import os, cv2\n",
    "from PIL import Image\n",
    "import math\n",
    "\n",
    "\n",
    "\n",
    "%matplotlib inline"
   ]
  },
  {
   "cell_type": "markdown",
   "metadata": {},
   "source": [
    "# Load Data"
   ]
  },
  {
   "cell_type": "code",
   "execution_count": 4,
   "metadata": {
    "collapsed": false
   },
   "outputs": [
    {
     "ename": "OSError",
     "evalue": "faces.csv not found.",
     "output_type": "error",
     "traceback": [
      "\u001b[0;31m---------------------------------------------------------------------------\u001b[0m",
      "\u001b[0;31mOSError\u001b[0m                                   Traceback (most recent call last)",
      "\u001b[0;32m<ipython-input-4-da62a2a2630c>\u001b[0m in \u001b[0;36m<module>\u001b[0;34m()\u001b[0m\n\u001b[0;32m----> 1\u001b[0;31m \u001b[0mimg_urls\u001b[0m \u001b[0;34m=\u001b[0m \u001b[0mnp\u001b[0m\u001b[0;34m.\u001b[0m\u001b[0mloadtxt\u001b[0m\u001b[0;34m(\u001b[0m\u001b[0;34m'faces.csv'\u001b[0m\u001b[0;34m,\u001b[0m \u001b[0mdtype\u001b[0m\u001b[0;34m=\u001b[0m\u001b[0mnp\u001b[0m\u001b[0;34m.\u001b[0m\u001b[0mstr\u001b[0m\u001b[0;34m)\u001b[0m\u001b[0;34m\u001b[0m\u001b[0m\n\u001b[0m",
      "\u001b[0;32m/Library/Frameworks/Python.framework/Versions/3.6/lib/python3.6/site-packages/numpy/lib/npyio.py\u001b[0m in \u001b[0;36mloadtxt\u001b[0;34m(fname, dtype, comments, delimiter, converters, skiprows, usecols, unpack, ndmin, encoding)\u001b[0m\n\u001b[1;32m    915\u001b[0m             \u001b[0mfname\u001b[0m \u001b[0;34m=\u001b[0m \u001b[0mstr\u001b[0m\u001b[0;34m(\u001b[0m\u001b[0mfname\u001b[0m\u001b[0;34m)\u001b[0m\u001b[0;34m\u001b[0m\u001b[0m\n\u001b[1;32m    916\u001b[0m         \u001b[0;32mif\u001b[0m \u001b[0m_is_string_like\u001b[0m\u001b[0;34m(\u001b[0m\u001b[0mfname\u001b[0m\u001b[0;34m)\u001b[0m\u001b[0;34m:\u001b[0m\u001b[0;34m\u001b[0m\u001b[0m\n\u001b[0;32m--> 917\u001b[0;31m             \u001b[0mfh\u001b[0m \u001b[0;34m=\u001b[0m \u001b[0mnp\u001b[0m\u001b[0;34m.\u001b[0m\u001b[0mlib\u001b[0m\u001b[0;34m.\u001b[0m\u001b[0m_datasource\u001b[0m\u001b[0;34m.\u001b[0m\u001b[0mopen\u001b[0m\u001b[0;34m(\u001b[0m\u001b[0mfname\u001b[0m\u001b[0;34m,\u001b[0m \u001b[0;34m'rt'\u001b[0m\u001b[0;34m,\u001b[0m \u001b[0mencoding\u001b[0m\u001b[0;34m=\u001b[0m\u001b[0mencoding\u001b[0m\u001b[0;34m)\u001b[0m\u001b[0;34m\u001b[0m\u001b[0m\n\u001b[0m\u001b[1;32m    918\u001b[0m             \u001b[0mfencoding\u001b[0m \u001b[0;34m=\u001b[0m \u001b[0mgetattr\u001b[0m\u001b[0;34m(\u001b[0m\u001b[0mfh\u001b[0m\u001b[0;34m,\u001b[0m \u001b[0;34m'encoding'\u001b[0m\u001b[0;34m,\u001b[0m \u001b[0;34m'latin1'\u001b[0m\u001b[0;34m)\u001b[0m\u001b[0;34m\u001b[0m\u001b[0m\n\u001b[1;32m    919\u001b[0m             \u001b[0mfh\u001b[0m \u001b[0;34m=\u001b[0m \u001b[0miter\u001b[0m\u001b[0;34m(\u001b[0m\u001b[0mfh\u001b[0m\u001b[0;34m)\u001b[0m\u001b[0;34m\u001b[0m\u001b[0m\n",
      "\u001b[0;32m/Library/Frameworks/Python.framework/Versions/3.6/lib/python3.6/site-packages/numpy/lib/_datasource.py\u001b[0m in \u001b[0;36mopen\u001b[0;34m(path, mode, destpath, encoding, newline)\u001b[0m\n\u001b[1;32m    258\u001b[0m \u001b[0;34m\u001b[0m\u001b[0m\n\u001b[1;32m    259\u001b[0m     \u001b[0mds\u001b[0m \u001b[0;34m=\u001b[0m \u001b[0mDataSource\u001b[0m\u001b[0;34m(\u001b[0m\u001b[0mdestpath\u001b[0m\u001b[0;34m)\u001b[0m\u001b[0;34m\u001b[0m\u001b[0m\n\u001b[0;32m--> 260\u001b[0;31m     \u001b[0;32mreturn\u001b[0m \u001b[0mds\u001b[0m\u001b[0;34m.\u001b[0m\u001b[0mopen\u001b[0m\u001b[0;34m(\u001b[0m\u001b[0mpath\u001b[0m\u001b[0;34m,\u001b[0m \u001b[0mmode\u001b[0m\u001b[0;34m,\u001b[0m \u001b[0mencoding\u001b[0m\u001b[0;34m=\u001b[0m\u001b[0mencoding\u001b[0m\u001b[0;34m,\u001b[0m \u001b[0mnewline\u001b[0m\u001b[0;34m=\u001b[0m\u001b[0mnewline\u001b[0m\u001b[0;34m)\u001b[0m\u001b[0;34m\u001b[0m\u001b[0m\n\u001b[0m\u001b[1;32m    261\u001b[0m \u001b[0;34m\u001b[0m\u001b[0m\n\u001b[1;32m    262\u001b[0m \u001b[0;34m\u001b[0m\u001b[0m\n",
      "\u001b[0;32m/Library/Frameworks/Python.framework/Versions/3.6/lib/python3.6/site-packages/numpy/lib/_datasource.py\u001b[0m in \u001b[0;36mopen\u001b[0;34m(self, path, mode, encoding, newline)\u001b[0m\n\u001b[1;32m    614\u001b[0m                                       encoding=encoding, newline=newline)\n\u001b[1;32m    615\u001b[0m         \u001b[0;32melse\u001b[0m\u001b[0;34m:\u001b[0m\u001b[0;34m\u001b[0m\u001b[0m\n\u001b[0;32m--> 616\u001b[0;31m             \u001b[0;32mraise\u001b[0m \u001b[0mIOError\u001b[0m\u001b[0;34m(\u001b[0m\u001b[0;34m\"%s not found.\"\u001b[0m \u001b[0;34m%\u001b[0m \u001b[0mpath\u001b[0m\u001b[0;34m)\u001b[0m\u001b[0;34m\u001b[0m\u001b[0m\n\u001b[0m\u001b[1;32m    617\u001b[0m \u001b[0;34m\u001b[0m\u001b[0m\n\u001b[1;32m    618\u001b[0m \u001b[0;34m\u001b[0m\u001b[0m\n",
      "\u001b[0;31mOSError\u001b[0m: faces.csv not found."
     ]
    }
   ],
   "source": [
    "img_urls = np.loadtxt('faces.csv', dtype=np.str)"
   ]
  },
  {
   "cell_type": "code",
   "execution_count": null,
   "metadata": {
    "collapsed": true
   },
   "outputs": [],
   "source": [
    "def load_images_from_urls(urls):\n",
    "    for i in range(len(urls)):\n",
    "        try:\n",
    "            urllib.request.urlretrieve(urls[i], 'images/img' + str(i) +'.png' )\n",
    "        except:\n",
    "            continue"
   ]
  },
  {
   "cell_type": "markdown",
   "metadata": {},
   "source": [
    "# Try Basic-Yolo-Keras implementation"
   ]
  },
  {
   "cell_type": "code",
   "execution_count": 2,
   "metadata": {
    "collapsed": false
   },
   "outputs": [],
   "source": [
    "anchors = np.fromfile('tiny-yolo-voc-keras/tiny-yolo_anchors.txt', sep=', ')\n",
    "IMAGE_W = 416\n",
    "CHANNELS = 3\n",
    "LABELS = 80\n",
    "GRID = 13\n",
    "CELL_WIDTH = IMAGE_W / GRID\n",
    "BOX = LABELS+5\n",
    "ANCHORS = int(len(anchors) / 2)"
   ]
  },
  {
   "cell_type": "code",
   "execution_count": 3,
   "metadata": {
    "collapsed": false
   },
   "outputs": [],
   "source": [
    "x_input = Input((IMAGE_W, IMAGE_W, CHANNELS))\n",
    "\n",
    "#1\n",
    "x = Conv2D(kernel_size=(3,3), filters=16, strides=(1,1), padding='SAME', name='conv2d_1', use_bias=False)(x_input)\n",
    "x = BatchNormalization(name='batch_normalization_1')(x)\n",
    "x = LeakyReLU()(x)\n",
    "x = MaxPooling2D((2,2))(x)\n",
    "\n",
    "#2\n",
    "x = Conv2D(kernel_size=(3,3), filters=32, strides=(1,1), padding='SAME', name='conv2d_2', use_bias=False)(x)\n",
    "x = BatchNormalization(name='batch_normalization_2')(x)\n",
    "x = LeakyReLU()(x)\n",
    "x = MaxPooling2D((2,2))(x)\n",
    "\n",
    "#3\n",
    "x = Conv2D(kernel_size=(3,3), filters=64, strides=(1,1), padding='SAME', name='conv2d_3', use_bias=False)(x)\n",
    "x = BatchNormalization(name='batch_normalization_3')(x)\n",
    "x = LeakyReLU()(x)\n",
    "x = MaxPooling2D((2,2))(x)\n",
    "\n",
    "#4\n",
    "x = Conv2D(kernel_size=(3,3), filters=128, strides=(1,1), padding='SAME', name='conv2d_4', use_bias=False)(x)\n",
    "x = BatchNormalization(name='batch_normalization_4')(x)\n",
    "x = LeakyReLU()(x)\n",
    "x = MaxPooling2D((2,2))(x)\n",
    "\n",
    "#5\n",
    "x = Conv2D(kernel_size=(3,3), filters=256, strides=(1,1), padding='SAME', name='conv2d_5', use_bias=False)(x)\n",
    "x = BatchNormalization(name='batch_normalization_5')(x)\n",
    "x = LeakyReLU()(x)\n",
    "x = MaxPooling2D((2,2))(x)\n",
    "\n",
    "#6\n",
    "x = Conv2D(kernel_size=(3,3), filters=512, strides=(1,1), padding='SAME', name='conv2d_6', use_bias=False)(x)\n",
    "x = BatchNormalization(name='batch_normalization_6')(x)\n",
    "x = LeakyReLU()(x)\n",
    "x = MaxPooling2D((2,2), strides=(1,1), padding='SAME')(x)\n",
    "\n",
    "#7\n",
    "x = Conv2D(kernel_size=(3,3), filters=1024, strides=(1,1), padding='SAME', name='conv2d_7', use_bias=False)(x)\n",
    "x = BatchNormalization(name='batch_normalization_7')(x)\n",
    "x = LeakyReLU()(x)\n",
    "\n",
    "#8\n",
    "x = Conv2D(kernel_size=(3,3), filters=1024, strides=(1,1), padding='SAME', name='conv2d_8', use_bias=False)(x)\n",
    "x = BatchNormalization(name='batch_normalization_8')(x)\n",
    "x = LeakyReLU()(x)\n",
    "\n",
    "x = Conv2D(kernel_size=(1,1), filters=125, strides=(1,1), padding='SAME', name='conv2d_9')(x)\n",
    "\n",
    "model = Model(inputs=x_input, outputs=x)"
   ]
  },
  {
   "cell_type": "code",
   "execution_count": 4,
   "metadata": {
    "collapsed": false
   },
   "outputs": [],
   "source": [
    "model.load_weights('tiny-yolo-voc-keras/tiny-yolo-voc.h5', by_name=True)"
   ]
  },
  {
   "cell_type": "code",
   "execution_count": 6,
   "metadata": {
    "collapsed": false
   },
   "outputs": [
    {
     "data": {
      "text/plain": [
       "array([[[[-9.32819366e+01,  1.73876480e+02, -4.42053223e+02, ...,\n",
       "           1.85315466e+03, -2.27983761e+01,  1.11552332e+03],\n",
       "         [-1.13066238e+02,  1.48657455e+01, -9.20101440e+02, ...,\n",
       "           2.84849902e+03,  6.92343811e+02,  2.24860864e+03],\n",
       "         [ 3.03096039e+02,  4.47278595e+02, -1.29788501e+03, ...,\n",
       "           2.40257690e+03,  1.14031995e+03,  2.69218091e+03],\n",
       "         ...,\n",
       "         [-1.78642853e+02,  4.32805359e+02, -5.14701965e+02, ...,\n",
       "           1.04188550e+03,  1.18671265e+03,  2.21693433e+03],\n",
       "         [ 1.77022171e+02,  9.46437317e+02, -5.29688965e+02, ...,\n",
       "           1.16546497e+03,  4.96951996e+02,  1.95342200e+03],\n",
       "         [ 4.63095978e+02,  6.81086060e+02, -4.83205566e+02, ...,\n",
       "           8.65824524e+02, -3.41580844e+00,  1.13167603e+03]],\n",
       "\n",
       "        [[-1.74720856e+02,  2.07038376e+02, -6.57596375e+02, ...,\n",
       "           2.33626465e+03,  2.01556747e+02,  8.08713135e+02],\n",
       "         [ 7.44041138e+01,  3.70872711e+02, -1.14944543e+03, ...,\n",
       "           3.71480859e+03,  6.37274475e+02,  1.33247461e+03],\n",
       "         [ 5.45008911e+02,  8.88901917e+02, -1.43513477e+03, ...,\n",
       "           2.53967944e+03,  1.12469519e+03,  1.78033569e+03],\n",
       "         ...,\n",
       "         [-1.91596024e+02,  5.17045715e+02, -5.89085327e+02, ...,\n",
       "           3.83411484e+01,  1.71065552e+03,  3.02822217e+03],\n",
       "         [ 6.66321106e+02,  7.26425842e+02, -5.88323120e+02, ...,\n",
       "           6.29580505e+02,  5.66786255e+02,  2.46088135e+03],\n",
       "         [ 5.82632141e+02,  6.19136719e+02, -3.09717987e+02, ...,\n",
       "          -1.20946815e+02,  5.21354141e+01,  1.13869409e+03]],\n",
       "\n",
       "        [[ 9.49725647e+01,  1.61839539e+02, -6.98867249e+02, ...,\n",
       "           2.23090967e+03,  1.40216626e+03,  9.40721191e+02],\n",
       "         [ 3.16397095e+02,  4.45577011e+01, -1.12506848e+03, ...,\n",
       "           3.28503979e+03,  2.51048462e+03,  1.85052258e+03],\n",
       "         [ 5.10572662e+02, -9.59866409e+01, -1.37257166e+03, ...,\n",
       "           1.28225940e+03,  3.98524658e+03,  2.75199902e+03],\n",
       "         ...,\n",
       "         [-1.32330521e+02, -1.24638107e+02, -8.83155701e+02, ...,\n",
       "          -1.07075037e+03,  2.48999585e+03,  3.64936182e+03],\n",
       "         [ 4.81638550e+02,  7.26497803e+01, -6.77459473e+02, ...,\n",
       "          -8.53308411e+02,  1.22858472e+03,  2.53291846e+03],\n",
       "         [ 4.83849701e+02,  7.81601858e+00, -2.33499008e+02, ...,\n",
       "          -1.34234399e+03,  6.85468384e+02,  9.12905029e+02]],\n",
       "\n",
       "        ...,\n",
       "\n",
       "        [[-1.25651360e+02, -4.22135651e+02, -2.22757614e+02, ...,\n",
       "           6.63035583e+02,  1.07428235e+03, -6.86330688e+02],\n",
       "         [ 3.71428680e+02, -7.73426147e+02,  5.10237000e+02, ...,\n",
       "           1.50792017e+03,  1.88685181e+03, -1.23277869e+03],\n",
       "         [ 1.01172418e+03, -9.21362488e+02,  2.81342560e+02, ...,\n",
       "           1.94009900e+03,  1.86177356e+03, -2.06834302e+03],\n",
       "         ...,\n",
       "         [ 2.01142563e+02,  6.90486816e+02, -1.56175919e+02, ...,\n",
       "           3.47816040e+02,  1.47519690e+03, -5.00138947e+02],\n",
       "         [-6.18310738e+00,  6.19916687e+02,  1.02121819e+02, ...,\n",
       "          -3.51295898e+02,  7.92239685e+02, -3.78998138e+02],\n",
       "         [-2.85310516e+01,  3.83860138e+02,  2.56683990e+02, ...,\n",
       "          -9.12854126e+02,  5.37327942e+02,  3.42036652e+02]],\n",
       "\n",
       "        [[ 1.68915207e+02, -5.24526184e+02, -2.03546234e+02, ...,\n",
       "           1.84538086e+02, -2.27752441e+02, -1.49449829e+03],\n",
       "         [ 4.71833618e+02, -5.95431152e+02,  5.47691345e+02, ...,\n",
       "           2.92054901e+02,  1.48459213e+02, -2.29107715e+03],\n",
       "         [ 6.24542297e+02, -6.90694458e+02,  3.51484833e+02, ...,\n",
       "           2.69985687e+02,  8.57681885e+02, -2.82177637e+03],\n",
       "         ...,\n",
       "         [ 5.40270386e+01,  9.48238281e+02,  2.52143707e+02, ...,\n",
       "           7.29833679e+02,  6.46250000e+02, -5.43401917e+02],\n",
       "         [-2.75843658e+02,  6.25377136e+02,  3.60314758e+02, ...,\n",
       "          -4.70321884e+01,  6.13613358e+01, -3.50280579e+02],\n",
       "         [-1.28874908e+02,  2.91228119e+02,  2.79696472e+02, ...,\n",
       "          -6.08691528e+02, -1.22598862e+02, -4.34214058e+01]],\n",
       "\n",
       "        [[-1.42204857e+01,  9.79350891e+01, -1.36463089e+02, ...,\n",
       "          -6.88043945e+02, -5.95535950e+02, -1.50821057e+03],\n",
       "         [ 3.83191681e+00,  3.69530029e+02,  1.54825897e+02, ...,\n",
       "          -5.24680176e+02, -2.90029236e+02, -2.28933301e+03],\n",
       "         [-2.04055443e+01,  2.71910980e+02, -1.34570723e+01, ...,\n",
       "          -3.38839996e+02,  4.04032074e+02, -2.50784277e+03],\n",
       "         ...,\n",
       "         [ 2.75026581e+02, -2.59034180e+02,  2.17180908e+02, ...,\n",
       "          -2.20875397e+01,  3.38843842e+02, -4.30930939e+02],\n",
       "         [-8.69155273e+01, -3.17784100e+01,  3.69308990e+02, ...,\n",
       "          -6.01633911e+02,  4.40242950e+02, -1.69244446e+02],\n",
       "         [ 2.62466393e+01, -1.78066696e+02,  1.52366699e+02, ...,\n",
       "          -4.48338531e+02,  3.44850220e+02, -1.84253403e+02]]]],\n",
       "      dtype=float32)"
      ]
     },
     "execution_count": 6,
     "metadata": {},
     "output_type": "execute_result"
    }
   ],
   "source": [
    "image = plt.imread('street.jpg')\n",
    "resized = cv2.resize(image, (IMAGE_W, IMAGE_W))\n",
    "image_data = np.expand_dims(resized, axis=0)\n",
    "image_data = image_data\n",
    "model.predict(image_data)"
   ]
  },
  {
   "cell_type": "code",
   "execution_count": 7,
   "metadata": {
    "collapsed": false
   },
   "outputs": [],
   "source": [
    "class Box:\n",
    "    def __init__(self):\n",
    "        c,x,y,w,h = [float() for i in range(5)]"
   ]
  },
  {
   "cell_type": "code",
   "execution_count": 8,
   "metadata": {
    "collapsed": true
   },
   "outputs": [],
   "source": [
    "def box_intersection(a, b):\n",
    "    w = overlap(a.x, a.w, b.x, b.w);\n",
    "    h = overlap(a.y, a.h, b.y, b.h);\n",
    "    if w < 0 or h < 0: return 0;\n",
    "    area = w * h;\n",
    "    return area;\n",
    "\n",
    "def box_union(a, b):\n",
    "    i = box_intersection(a, b);\n",
    "    u = a.w * a.h + b.w * b.h - i;\n",
    "    return u;\n",
    "\n",
    "def box_iou(a, b):\n",
    "    return box_intersection(a, b) / box_union(a, b);"
   ]
  },
  {
   "cell_type": "code",
   "execution_count": 9,
   "metadata": {
    "collapsed": true
   },
   "outputs": [],
   "source": [
    "def sigmoid(x):\n",
    "    return 1 / (1 + np.exp(-x))"
   ]
  },
  {
   "cell_type": "code",
   "execution_count": 10,
   "metadata": {
    "collapsed": false
   },
   "outputs": [],
   "source": [
    "def parse_netout(netout):\n",
    "    boxes_confidences = np.array([netout[:,:,i*BOX] for i in range(ANCHORS)])\n",
    "    boxes_xy = np.array([netout[:,:,(i*BOX + 1) : (i*BOX + 3)] for i in range(ANCHORS)])\n",
    "    boxes_wh = np.array([netout[:,:,(i*BOX + 3) : (i*BOX + 5)] for i in range(ANCHORS)])\n",
    "    boxes_class_probs = np.array([netout[:,:,(i*BOX + 5) : (i*BOX + BOX)] for i in range(ANCHORS)])\n",
    "    return boxes_confidences, boxes_xy, boxes_wh, boxes_class_probs"
   ]
  },
  {
   "cell_type": "code",
   "execution_count": 11,
   "metadata": {
    "collapsed": false
   },
   "outputs": [
    {
     "name": "stdout",
     "output_type": "stream",
     "text": [
      "boxes_confidences:  (5, 13, 13)\n",
      "boxes_xy:  (5, 13, 13, 2)\n",
      "boxes_wh:  (5, 13, 13, 2)\n",
      "boxes_class_probs:  (5, 13, 13, 80)\n"
     ]
    }
   ],
   "source": [
    "test_netout = np.random.rand(13,13,425)\n",
    "boxes_confidences, boxes_xy, boxes_wh, boxes_class_probs = parse_netout(test_netout)\n",
    "print(\"boxes_confidences: \", boxes_confidences.shape)\n",
    "print(\"boxes_xy: \", boxes_xy.shape)\n",
    "print(\"boxes_wh: \", boxes_wh.shape)\n",
    "print(\"boxes_class_probs: \", boxes_class_probs.shape)"
   ]
  },
  {
   "cell_type": "code",
   "execution_count": 12,
   "metadata": {
    "collapsed": false
   },
   "outputs": [],
   "source": [
    "def non_max_suppression_fast(boxes, overlapThresh):\n",
    "    # if there are no boxes, return an empty list\n",
    "    if len(boxes) == 0:\n",
    "        return []\n",
    " \n",
    "    # if the bounding boxes integers, convert them to floats --\n",
    "    # this is important since we'll be doing a bunch of divisions\n",
    "    if boxes.dtype.kind == \"i\":\n",
    "        boxes = boxes.astype(\"float\")\n",
    " \n",
    "    # initialize the list of picked indexes\t\n",
    "    pick = []\n",
    " \n",
    "    # grab the coordinates of the bounding boxes\n",
    "    x1 = boxes[:,0]\n",
    "    y1 = boxes[:,1]\n",
    "    x2 = boxes[:,2]\n",
    "    y2 = boxes[:,3]\n",
    " \n",
    "    # compute the area of the bounding boxes and sort the bounding\n",
    "    # boxes by the bottom-right y-coordinate of the bounding box\n",
    "    area = (x2 - x1 + 1) * (y2 - y1 + 1)\n",
    "    idxs = np.argsort(y2)\n",
    " \n",
    "    # keep looping while some indexes still remain in the indexes\n",
    "    # list\n",
    "    while len(idxs) > 0:\n",
    "        # grab the last index in the indexes list and add the\n",
    "        # index value to the list of picked indexes\n",
    "        last = len(idxs) - 1\n",
    "        i = idxs[last]\n",
    "        pick.append(i)\n",
    " \n",
    "        # find the largest (x, y) coordinates for the start of\n",
    "        # the bounding box and the smallest (x, y) coordinates\n",
    "        # for the end of the bounding box\n",
    "        xx1 = np.maximum(x1[i], x1[idxs[:last]])\n",
    "        yy1 = np.maximum(y1[i], y1[idxs[:last]])\n",
    "        xx2 = np.minimum(x2[i], x2[idxs[:last]])\n",
    "        yy2 = np.minimum(y2[i], y2[idxs[:last]])\n",
    " \n",
    "        # compute the width and height of the bounding box\n",
    "        w = np.maximum(0, xx2 - xx1 + 1)\n",
    "        h = np.maximum(0, yy2 - yy1 + 1)\n",
    " \n",
    "        # compute the ratio of overlap\n",
    "        overlap = (w * h) / area[idxs[:last]]\n",
    " \n",
    "        # delete all indexes from the index list that have\n",
    "        idxs = np.delete(idxs, np.concatenate(([last],\n",
    "            np.where(overlap > overlapThresh)[0])))\n",
    " \n",
    "    # return only the bounding boxes that were picked using the\n",
    "    # integer data type\n",
    "    return boxes[pick].astype(\"int\")"
   ]
  },
  {
   "cell_type": "code",
   "execution_count": 13,
   "metadata": {
    "collapsed": true
   },
   "outputs": [],
   "source": [
    "def netout_to_boxes(netout, anchors):\n",
    "    boxes_confidences, boxes_xy, boxes_wh, boxes_class_probs = parse_netout(netout)\n",
    "    boxes = []\n",
    "\n",
    "    for row in range(GRID):\n",
    "        for col in range(GRID):\n",
    "            for b in range(ANCHORS):\n",
    "                box = Box()\n",
    "                box.c = boxes_confidences[b, row, col]\n",
    "                box.x = sigmoid(boxes_xy[b, row, col, 0]) + CELL_WIDTH * col\n",
    "                box.y = sigmoid(boxes_xy[b, row, col, 1]) + CELL_WIDTH * row\n",
    "                box.w = anchors[b*2] * np.exp(boxes_wh[b, row, col, 0])\n",
    "                box.h = anchors[b*2 + 1] * np.exp(boxes_wh[b, row, col, 1])\n",
    "                if box.w == float('inf'):\n",
    "                    box.w = 90000\n",
    "                if box.h == float('inf'):\n",
    "                    box.h = 90000 \n",
    "#                 print('x ', box.x)\n",
    "#                 print('y ', box.y)\n",
    "#                 print('w ', box.w)\n",
    "#                 print('h ', box.h)\n",
    "                \n",
    "                boxes.append(box)\n",
    "    return boxes"
   ]
  },
  {
   "cell_type": "code",
   "execution_count": 14,
   "metadata": {
    "collapsed": true
   },
   "outputs": [],
   "source": [
    "def frame_func(image):\n",
    "    crop = image[300:650,500:,:]\n",
    "    resized = cv2.resize(image, (IMAGE_W, IMAGE_W)) / 255.\n",
    "    batch = np.expand_dims(resized, axis=0)\n",
    "    out = model.predict(batch)\n",
    "    boxes = netout_to_boxes(out[0], anchors)\n",
    "    return draw_box(boxes,resized,[[0,IMAGE_W],[0,IMAGE_W]])"
   ]
  },
  {
   "cell_type": "code",
   "execution_count": 15,
   "metadata": {
    "collapsed": true
   },
   "outputs": [],
   "source": [
    "def draw_box(boxes,im,crop_dim):\n",
    "    imgcv = im\n",
    "    [xmin,xmax] = crop_dim[0]\n",
    "    [ymin,ymax] = crop_dim[1]\n",
    "    for b in boxes:\n",
    "        h, w, _ = imgcv.shape\n",
    "        left  = int ((b.x - b.w/2.) * w)\n",
    "        right = int ((b.x + b.w/2.) * w)\n",
    "        top   = int ((b.y - b.h/2.) * h)\n",
    "        bot   = int ((b.y + b.h/2.) * h)\n",
    "#         left = int(left*(xmax-xmin)/w + xmin)\n",
    "#         right = int(right*(xmax-xmin)/w + xmin)\n",
    "#         top = int(top*(ymax-ymin)/h + ymin)\n",
    "#         bot = int(bot*(ymax-ymin)/h + ymin)\n",
    "\n",
    "        if left  < 0    :  left = 0\n",
    "        if right > w - 1: right = w - 1\n",
    "        if top   < 0    :   top = 0\n",
    "        if bot   > h - 1:   bot = h - 1\n",
    "        thick = int((h + w) // 150)\n",
    "        cv2.rectangle(imgcv, (left, top), (right, bot), (255,0,0), thick)\n",
    "\n",
    "    return imgcv"
   ]
  },
  {
   "cell_type": "code",
   "execution_count": 16,
   "metadata": {
    "collapsed": false
   },
   "outputs": [
    {
     "ename": "IndexError",
     "evalue": "index 170 is out of bounds for axis 2 with size 125",
     "output_type": "error",
     "traceback": [
      "\u001b[0;31m---------------------------------------------------------------------------\u001b[0m",
      "\u001b[0;31mIndexError\u001b[0m                                Traceback (most recent call last)",
      "\u001b[0;32m<ipython-input-16-de2f82e62deb>\u001b[0m in \u001b[0;36m<module>\u001b[0;34m()\u001b[0m\n\u001b[1;32m      1\u001b[0m \u001b[0mimage\u001b[0m \u001b[0;34m=\u001b[0m \u001b[0mplt\u001b[0m\u001b[0;34m.\u001b[0m\u001b[0mimread\u001b[0m\u001b[0;34m(\u001b[0m\u001b[0;34m'street.jpg'\u001b[0m\u001b[0;34m)\u001b[0m\u001b[0;34m\u001b[0m\u001b[0m\n\u001b[0;32m----> 2\u001b[0;31m \u001b[0mplt\u001b[0m\u001b[0;34m.\u001b[0m\u001b[0mimshow\u001b[0m\u001b[0;34m(\u001b[0m\u001b[0mframe_func\u001b[0m\u001b[0;34m(\u001b[0m\u001b[0mimage\u001b[0m\u001b[0;34m)\u001b[0m\u001b[0;34m)\u001b[0m\u001b[0;34m\u001b[0m\u001b[0m\n\u001b[0m",
      "\u001b[0;32m<ipython-input-14-fe166318df59>\u001b[0m in \u001b[0;36mframe_func\u001b[0;34m(image)\u001b[0m\n\u001b[1;32m      4\u001b[0m     \u001b[0mbatch\u001b[0m \u001b[0;34m=\u001b[0m \u001b[0mnp\u001b[0m\u001b[0;34m.\u001b[0m\u001b[0mexpand_dims\u001b[0m\u001b[0;34m(\u001b[0m\u001b[0mresized\u001b[0m\u001b[0;34m,\u001b[0m \u001b[0maxis\u001b[0m\u001b[0;34m=\u001b[0m\u001b[0;36m0\u001b[0m\u001b[0;34m)\u001b[0m\u001b[0;34m\u001b[0m\u001b[0m\n\u001b[1;32m      5\u001b[0m     \u001b[0mout\u001b[0m \u001b[0;34m=\u001b[0m \u001b[0mmodel\u001b[0m\u001b[0;34m.\u001b[0m\u001b[0mpredict\u001b[0m\u001b[0;34m(\u001b[0m\u001b[0mbatch\u001b[0m\u001b[0;34m)\u001b[0m\u001b[0;34m\u001b[0m\u001b[0m\n\u001b[0;32m----> 6\u001b[0;31m     \u001b[0mboxes\u001b[0m \u001b[0;34m=\u001b[0m \u001b[0mnetout_to_boxes\u001b[0m\u001b[0;34m(\u001b[0m\u001b[0mout\u001b[0m\u001b[0;34m[\u001b[0m\u001b[0;36m0\u001b[0m\u001b[0;34m]\u001b[0m\u001b[0;34m,\u001b[0m \u001b[0manchors\u001b[0m\u001b[0;34m)\u001b[0m\u001b[0;34m\u001b[0m\u001b[0m\n\u001b[0m\u001b[1;32m      7\u001b[0m     \u001b[0;32mreturn\u001b[0m \u001b[0mdraw_box\u001b[0m\u001b[0;34m(\u001b[0m\u001b[0mboxes\u001b[0m\u001b[0;34m,\u001b[0m\u001b[0mresized\u001b[0m\u001b[0;34m,\u001b[0m\u001b[0;34m[\u001b[0m\u001b[0;34m[\u001b[0m\u001b[0;36m0\u001b[0m\u001b[0;34m,\u001b[0m\u001b[0mIMAGE_W\u001b[0m\u001b[0;34m]\u001b[0m\u001b[0;34m,\u001b[0m\u001b[0;34m[\u001b[0m\u001b[0;36m0\u001b[0m\u001b[0;34m,\u001b[0m\u001b[0mIMAGE_W\u001b[0m\u001b[0;34m]\u001b[0m\u001b[0;34m]\u001b[0m\u001b[0;34m)\u001b[0m\u001b[0;34m\u001b[0m\u001b[0m\n",
      "\u001b[0;32m<ipython-input-13-7fc0ae656e53>\u001b[0m in \u001b[0;36mnetout_to_boxes\u001b[0;34m(netout, anchors)\u001b[0m\n\u001b[1;32m      1\u001b[0m \u001b[0;32mdef\u001b[0m \u001b[0mnetout_to_boxes\u001b[0m\u001b[0;34m(\u001b[0m\u001b[0mnetout\u001b[0m\u001b[0;34m,\u001b[0m \u001b[0manchors\u001b[0m\u001b[0;34m)\u001b[0m\u001b[0;34m:\u001b[0m\u001b[0;34m\u001b[0m\u001b[0m\n\u001b[0;32m----> 2\u001b[0;31m     \u001b[0mboxes_confidences\u001b[0m\u001b[0;34m,\u001b[0m \u001b[0mboxes_xy\u001b[0m\u001b[0;34m,\u001b[0m \u001b[0mboxes_wh\u001b[0m\u001b[0;34m,\u001b[0m \u001b[0mboxes_class_probs\u001b[0m \u001b[0;34m=\u001b[0m \u001b[0mparse_netout\u001b[0m\u001b[0;34m(\u001b[0m\u001b[0mnetout\u001b[0m\u001b[0;34m)\u001b[0m\u001b[0;34m\u001b[0m\u001b[0m\n\u001b[0m\u001b[1;32m      3\u001b[0m     \u001b[0mboxes\u001b[0m \u001b[0;34m=\u001b[0m \u001b[0;34m[\u001b[0m\u001b[0;34m]\u001b[0m\u001b[0;34m\u001b[0m\u001b[0m\n\u001b[1;32m      4\u001b[0m \u001b[0;34m\u001b[0m\u001b[0m\n\u001b[1;32m      5\u001b[0m     \u001b[0;32mfor\u001b[0m \u001b[0mrow\u001b[0m \u001b[0;32min\u001b[0m \u001b[0mrange\u001b[0m\u001b[0;34m(\u001b[0m\u001b[0mGRID\u001b[0m\u001b[0;34m)\u001b[0m\u001b[0;34m:\u001b[0m\u001b[0;34m\u001b[0m\u001b[0m\n",
      "\u001b[0;32m<ipython-input-10-d47751d49b17>\u001b[0m in \u001b[0;36mparse_netout\u001b[0;34m(netout)\u001b[0m\n\u001b[1;32m      1\u001b[0m \u001b[0;32mdef\u001b[0m \u001b[0mparse_netout\u001b[0m\u001b[0;34m(\u001b[0m\u001b[0mnetout\u001b[0m\u001b[0;34m)\u001b[0m\u001b[0;34m:\u001b[0m\u001b[0;34m\u001b[0m\u001b[0m\n\u001b[0;32m----> 2\u001b[0;31m     \u001b[0mboxes_confidences\u001b[0m \u001b[0;34m=\u001b[0m \u001b[0mnp\u001b[0m\u001b[0;34m.\u001b[0m\u001b[0marray\u001b[0m\u001b[0;34m(\u001b[0m\u001b[0;34m[\u001b[0m\u001b[0mnetout\u001b[0m\u001b[0;34m[\u001b[0m\u001b[0;34m:\u001b[0m\u001b[0;34m,\u001b[0m\u001b[0;34m:\u001b[0m\u001b[0;34m,\u001b[0m\u001b[0mi\u001b[0m\u001b[0;34m*\u001b[0m\u001b[0mBOX\u001b[0m\u001b[0;34m]\u001b[0m \u001b[0;32mfor\u001b[0m \u001b[0mi\u001b[0m \u001b[0;32min\u001b[0m \u001b[0mrange\u001b[0m\u001b[0;34m(\u001b[0m\u001b[0mANCHORS\u001b[0m\u001b[0;34m)\u001b[0m\u001b[0;34m]\u001b[0m\u001b[0;34m)\u001b[0m\u001b[0;34m\u001b[0m\u001b[0m\n\u001b[0m\u001b[1;32m      3\u001b[0m     \u001b[0mboxes_xy\u001b[0m \u001b[0;34m=\u001b[0m \u001b[0mnp\u001b[0m\u001b[0;34m.\u001b[0m\u001b[0marray\u001b[0m\u001b[0;34m(\u001b[0m\u001b[0;34m[\u001b[0m\u001b[0mnetout\u001b[0m\u001b[0;34m[\u001b[0m\u001b[0;34m:\u001b[0m\u001b[0;34m,\u001b[0m\u001b[0;34m:\u001b[0m\u001b[0;34m,\u001b[0m\u001b[0;34m(\u001b[0m\u001b[0mi\u001b[0m\u001b[0;34m*\u001b[0m\u001b[0mBOX\u001b[0m \u001b[0;34m+\u001b[0m \u001b[0;36m1\u001b[0m\u001b[0;34m)\u001b[0m \u001b[0;34m:\u001b[0m \u001b[0;34m(\u001b[0m\u001b[0mi\u001b[0m\u001b[0;34m*\u001b[0m\u001b[0mBOX\u001b[0m \u001b[0;34m+\u001b[0m \u001b[0;36m3\u001b[0m\u001b[0;34m)\u001b[0m\u001b[0;34m]\u001b[0m \u001b[0;32mfor\u001b[0m \u001b[0mi\u001b[0m \u001b[0;32min\u001b[0m \u001b[0mrange\u001b[0m\u001b[0;34m(\u001b[0m\u001b[0mANCHORS\u001b[0m\u001b[0;34m)\u001b[0m\u001b[0;34m]\u001b[0m\u001b[0;34m)\u001b[0m\u001b[0;34m\u001b[0m\u001b[0m\n\u001b[1;32m      4\u001b[0m     \u001b[0mboxes_wh\u001b[0m \u001b[0;34m=\u001b[0m \u001b[0mnp\u001b[0m\u001b[0;34m.\u001b[0m\u001b[0marray\u001b[0m\u001b[0;34m(\u001b[0m\u001b[0;34m[\u001b[0m\u001b[0mnetout\u001b[0m\u001b[0;34m[\u001b[0m\u001b[0;34m:\u001b[0m\u001b[0;34m,\u001b[0m\u001b[0;34m:\u001b[0m\u001b[0;34m,\u001b[0m\u001b[0;34m(\u001b[0m\u001b[0mi\u001b[0m\u001b[0;34m*\u001b[0m\u001b[0mBOX\u001b[0m \u001b[0;34m+\u001b[0m \u001b[0;36m3\u001b[0m\u001b[0;34m)\u001b[0m \u001b[0;34m:\u001b[0m \u001b[0;34m(\u001b[0m\u001b[0mi\u001b[0m\u001b[0;34m*\u001b[0m\u001b[0mBOX\u001b[0m \u001b[0;34m+\u001b[0m \u001b[0;36m5\u001b[0m\u001b[0;34m)\u001b[0m\u001b[0;34m]\u001b[0m \u001b[0;32mfor\u001b[0m \u001b[0mi\u001b[0m \u001b[0;32min\u001b[0m \u001b[0mrange\u001b[0m\u001b[0;34m(\u001b[0m\u001b[0mANCHORS\u001b[0m\u001b[0;34m)\u001b[0m\u001b[0;34m]\u001b[0m\u001b[0;34m)\u001b[0m\u001b[0;34m\u001b[0m\u001b[0m\n\u001b[1;32m      5\u001b[0m     \u001b[0mboxes_class_probs\u001b[0m \u001b[0;34m=\u001b[0m \u001b[0mnp\u001b[0m\u001b[0;34m.\u001b[0m\u001b[0marray\u001b[0m\u001b[0;34m(\u001b[0m\u001b[0;34m[\u001b[0m\u001b[0mnetout\u001b[0m\u001b[0;34m[\u001b[0m\u001b[0;34m:\u001b[0m\u001b[0;34m,\u001b[0m\u001b[0;34m:\u001b[0m\u001b[0;34m,\u001b[0m\u001b[0;34m(\u001b[0m\u001b[0mi\u001b[0m\u001b[0;34m*\u001b[0m\u001b[0mBOX\u001b[0m \u001b[0;34m+\u001b[0m \u001b[0;36m5\u001b[0m\u001b[0;34m)\u001b[0m \u001b[0;34m:\u001b[0m \u001b[0;34m(\u001b[0m\u001b[0mi\u001b[0m\u001b[0;34m*\u001b[0m\u001b[0mBOX\u001b[0m \u001b[0;34m+\u001b[0m \u001b[0mBOX\u001b[0m\u001b[0;34m)\u001b[0m\u001b[0;34m]\u001b[0m \u001b[0;32mfor\u001b[0m \u001b[0mi\u001b[0m \u001b[0;32min\u001b[0m \u001b[0mrange\u001b[0m\u001b[0;34m(\u001b[0m\u001b[0mANCHORS\u001b[0m\u001b[0;34m)\u001b[0m\u001b[0;34m]\u001b[0m\u001b[0;34m)\u001b[0m\u001b[0;34m\u001b[0m\u001b[0m\n",
      "\u001b[0;32m<ipython-input-10-d47751d49b17>\u001b[0m in \u001b[0;36m<listcomp>\u001b[0;34m(.0)\u001b[0m\n\u001b[1;32m      1\u001b[0m \u001b[0;32mdef\u001b[0m \u001b[0mparse_netout\u001b[0m\u001b[0;34m(\u001b[0m\u001b[0mnetout\u001b[0m\u001b[0;34m)\u001b[0m\u001b[0;34m:\u001b[0m\u001b[0;34m\u001b[0m\u001b[0m\n\u001b[0;32m----> 2\u001b[0;31m     \u001b[0mboxes_confidences\u001b[0m \u001b[0;34m=\u001b[0m \u001b[0mnp\u001b[0m\u001b[0;34m.\u001b[0m\u001b[0marray\u001b[0m\u001b[0;34m(\u001b[0m\u001b[0;34m[\u001b[0m\u001b[0mnetout\u001b[0m\u001b[0;34m[\u001b[0m\u001b[0;34m:\u001b[0m\u001b[0;34m,\u001b[0m\u001b[0;34m:\u001b[0m\u001b[0;34m,\u001b[0m\u001b[0mi\u001b[0m\u001b[0;34m*\u001b[0m\u001b[0mBOX\u001b[0m\u001b[0;34m]\u001b[0m \u001b[0;32mfor\u001b[0m \u001b[0mi\u001b[0m \u001b[0;32min\u001b[0m \u001b[0mrange\u001b[0m\u001b[0;34m(\u001b[0m\u001b[0mANCHORS\u001b[0m\u001b[0;34m)\u001b[0m\u001b[0;34m]\u001b[0m\u001b[0;34m)\u001b[0m\u001b[0;34m\u001b[0m\u001b[0m\n\u001b[0m\u001b[1;32m      3\u001b[0m     \u001b[0mboxes_xy\u001b[0m \u001b[0;34m=\u001b[0m \u001b[0mnp\u001b[0m\u001b[0;34m.\u001b[0m\u001b[0marray\u001b[0m\u001b[0;34m(\u001b[0m\u001b[0;34m[\u001b[0m\u001b[0mnetout\u001b[0m\u001b[0;34m[\u001b[0m\u001b[0;34m:\u001b[0m\u001b[0;34m,\u001b[0m\u001b[0;34m:\u001b[0m\u001b[0;34m,\u001b[0m\u001b[0;34m(\u001b[0m\u001b[0mi\u001b[0m\u001b[0;34m*\u001b[0m\u001b[0mBOX\u001b[0m \u001b[0;34m+\u001b[0m \u001b[0;36m1\u001b[0m\u001b[0;34m)\u001b[0m \u001b[0;34m:\u001b[0m \u001b[0;34m(\u001b[0m\u001b[0mi\u001b[0m\u001b[0;34m*\u001b[0m\u001b[0mBOX\u001b[0m \u001b[0;34m+\u001b[0m \u001b[0;36m3\u001b[0m\u001b[0;34m)\u001b[0m\u001b[0;34m]\u001b[0m \u001b[0;32mfor\u001b[0m \u001b[0mi\u001b[0m \u001b[0;32min\u001b[0m \u001b[0mrange\u001b[0m\u001b[0;34m(\u001b[0m\u001b[0mANCHORS\u001b[0m\u001b[0;34m)\u001b[0m\u001b[0;34m]\u001b[0m\u001b[0;34m)\u001b[0m\u001b[0;34m\u001b[0m\u001b[0m\n\u001b[1;32m      4\u001b[0m     \u001b[0mboxes_wh\u001b[0m \u001b[0;34m=\u001b[0m \u001b[0mnp\u001b[0m\u001b[0;34m.\u001b[0m\u001b[0marray\u001b[0m\u001b[0;34m(\u001b[0m\u001b[0;34m[\u001b[0m\u001b[0mnetout\u001b[0m\u001b[0;34m[\u001b[0m\u001b[0;34m:\u001b[0m\u001b[0;34m,\u001b[0m\u001b[0;34m:\u001b[0m\u001b[0;34m,\u001b[0m\u001b[0;34m(\u001b[0m\u001b[0mi\u001b[0m\u001b[0;34m*\u001b[0m\u001b[0mBOX\u001b[0m \u001b[0;34m+\u001b[0m \u001b[0;36m3\u001b[0m\u001b[0;34m)\u001b[0m \u001b[0;34m:\u001b[0m \u001b[0;34m(\u001b[0m\u001b[0mi\u001b[0m\u001b[0;34m*\u001b[0m\u001b[0mBOX\u001b[0m \u001b[0;34m+\u001b[0m \u001b[0;36m5\u001b[0m\u001b[0;34m)\u001b[0m\u001b[0;34m]\u001b[0m \u001b[0;32mfor\u001b[0m \u001b[0mi\u001b[0m \u001b[0;32min\u001b[0m \u001b[0mrange\u001b[0m\u001b[0;34m(\u001b[0m\u001b[0mANCHORS\u001b[0m\u001b[0;34m)\u001b[0m\u001b[0;34m]\u001b[0m\u001b[0;34m)\u001b[0m\u001b[0;34m\u001b[0m\u001b[0m\n\u001b[1;32m      5\u001b[0m     \u001b[0mboxes_class_probs\u001b[0m \u001b[0;34m=\u001b[0m \u001b[0mnp\u001b[0m\u001b[0;34m.\u001b[0m\u001b[0marray\u001b[0m\u001b[0;34m(\u001b[0m\u001b[0;34m[\u001b[0m\u001b[0mnetout\u001b[0m\u001b[0;34m[\u001b[0m\u001b[0;34m:\u001b[0m\u001b[0;34m,\u001b[0m\u001b[0;34m:\u001b[0m\u001b[0;34m,\u001b[0m\u001b[0;34m(\u001b[0m\u001b[0mi\u001b[0m\u001b[0;34m*\u001b[0m\u001b[0mBOX\u001b[0m \u001b[0;34m+\u001b[0m \u001b[0;36m5\u001b[0m\u001b[0;34m)\u001b[0m \u001b[0;34m:\u001b[0m \u001b[0;34m(\u001b[0m\u001b[0mi\u001b[0m\u001b[0;34m*\u001b[0m\u001b[0mBOX\u001b[0m \u001b[0;34m+\u001b[0m \u001b[0mBOX\u001b[0m\u001b[0;34m)\u001b[0m\u001b[0;34m]\u001b[0m \u001b[0;32mfor\u001b[0m \u001b[0mi\u001b[0m \u001b[0;32min\u001b[0m \u001b[0mrange\u001b[0m\u001b[0;34m(\u001b[0m\u001b[0mANCHORS\u001b[0m\u001b[0;34m)\u001b[0m\u001b[0;34m]\u001b[0m\u001b[0;34m)\u001b[0m\u001b[0;34m\u001b[0m\u001b[0m\n",
      "\u001b[0;31mIndexError\u001b[0m: index 170 is out of bounds for axis 2 with size 125"
     ]
    }
   ],
   "source": [
    "image = plt.imread('street.jpg')\n",
    "plt.imshow(frame_func(image))"
   ]
  },
  {
   "cell_type": "code",
   "execution_count": 70,
   "metadata": {
    "collapsed": false
   },
   "outputs": [
    {
     "data": {
      "text/plain": [
       "array([0.57273 , 0.677385, 1.87446 , 2.06253 , 3.33843 , 5.47434 ,\n",
       "       7.88282 , 3.52778 , 9.77052 , 9.16828 ])"
      ]
     },
     "execution_count": 70,
     "metadata": {},
     "output_type": "execute_result"
    }
   ],
   "source": [
    "anchors"
   ]
  },
  {
   "cell_type": "code",
   "execution_count": null,
   "metadata": {
    "collapsed": true
   },
   "outputs": [],
   "source": []
  }
 ],
 "metadata": {
  "kernelspec": {
   "display_name": "Python 3",
   "language": "python",
   "name": "python3"
  },
  "language_info": {
   "codemirror_mode": {
    "name": "ipython",
    "version": 3
   },
   "file_extension": ".py",
   "mimetype": "text/x-python",
   "name": "python",
   "nbconvert_exporter": "python",
   "pygments_lexer": "ipython3",
   "version": "3.6.1"
  }
 },
 "nbformat": 4,
 "nbformat_minor": 2
}
